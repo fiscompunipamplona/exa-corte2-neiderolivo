{
 "cells": [
  {
   "cell_type": "markdown",
   "metadata": {},
   "source": [
    "# Ejercicio 8.15: Pendulo Doble\n",
    "\n",
    "Si realizó el ejercicio 8.4, habrá creado un programa para calcular el movimiento de un péndulo no lineal. Aunque no es lineal, el movimiento del péndulo no lineal es, sin embargo, perfectamente regular y periódico; no hay sorpresas. Un péndulo doble, por otro lado, es completamente lo opuesto: caótico e impredecible. Un *péndulo doble* consiste en un péndulo normal con otro péndulo colgando de su extremo. Para simplificar, ignoremos la fricción y supongamos que ambos péndulos tienen bobinas de la misma masa $m$ y brazos sin masa de la misma longitud $l$. Por lo tanto, la configuración se ve así:\n",
    "\n",
    "<img src=\"Pendulo.png\">\n",
    "\n",
    "La posición de los brazos en cualquier momento en el tiempo se especifica de manera única por los dos ángulos $ \\theta_1 $ y $ \\theta_2 $. Las ecuaciones de movimiento para los ángulos se derivan más fácilmente usando el formalismo Lagrangiano, como lo siguiente.\n",
    "\n",
    "Las alturas de las dos bobinas, medidas desde el nivel del pivote son\n",
    "\n",
    "\\begin{equation}\n",
    "h_1 = -\\ell\\cos\\theta_1, \\qquad\n",
    "h_2 = -\\ell(\\cos\\theta_1+\\cos\\theta_2),\n",
    "\\end{equation}\n",
    "\n",
    "entonces la energía potencial del sistema es\n",
    "\n",
    "\\begin{equation}\n",
    "V = mgh_1 + mgh_2 = -mg\\ell(2\\cos\\theta_1 + \\cos\\theta_2),\n",
    "\\end{equation}\n",
    "\n",
    "donde $g$ es la aceleración debida a la gravedad. Las velocidades (lineales) de las dos bobinas están dadas por\n",
    "\n",
    "\n",
    "\\begin{equation}\n",
    "v_1 = \\ell\\dot\\theta_1, \\qquad\n",
    "v_2^2 = \\ell^2 \\bigl[ \\dot\\theta_1^2 + \\dot\\theta_2^2\n",
    "  + 2 \\dot\\theta_1\\dot\\theta_2 \\cos(\\theta_1-\\theta_2) \\bigr],\n",
    "\\end{equation}\n",
    "\n",
    "donde $ \\dot \\theta $ significa la derivada de $\\theta$ con respecto al tiempo $ t $. (Si no ve de dónde viene la segunda ecuación de velocidad, es un buen ejercicio deducirla de la geometría del péndulo). Ahora la energía cinética total es\n",
    "\n",
    "\\begin{equation}\n",
    "T = \\frac{1}{2} m v_1^2 + \\frac{1}{2} m v_2^2\n",
    "  = m\\ell^2 \\bigl[ \\dot\\theta_1^2 + \\frac{1}{2} \\dot\\theta_2^2\n",
    "  + \\dot\\theta_1\\dot\\theta_2 \\cos(\\theta_1-\\theta_2) \\bigr],\n",
    "\\end{equation}\n",
    "\n",
    "y el Lagrangiano del sistema es\n",
    "\n",
    "\\begin{equation}\n",
    "\\mathcal{L} = T - V\n",
    "  = m\\ell^2 \\bigl[ \\dot\\theta_1^2 + \\frac{1}{2} \\dot\\theta_2^2\n",
    "  + \\dot\\theta_1\\dot\\theta_2 \\cos(\\theta_1-\\theta_2) \\bigr]\n",
    "  + mg\\ell(2\\cos\\theta_1 + \\cos\\theta_2).\n",
    "\\end{equation}\n",
    "\n",
    "Luego, las ecuaciones de movimiento están dadas por las ecuaciones de Euler - Lagrange\n",
    "\n",
    "\\begin{equation}\n",
    "\\frac{d}{dt} \\biggl({\\partial\\mathcal{L}\\over\\partial\\dot\\theta_1} \\biggr)\n",
    "  = {\\partial\\mathcal{L}\\over\\partial\\theta_1}, \\qquad\n",
    "\\frac{d}{dt} \\biggl({\\partial\\mathcal{L}\\over\\partial\\dot\\theta_2} \\biggr)\n",
    "  = {\\partial\\mathcal{L}\\over\\partial\\theta_2},\n",
    "\\end{equation}\n",
    "\n",
    "que en este caso dan\n",
    "\n",
    "\\begin{align*}\n",
    "2\\ddot\\theta_1 + \\ddot\\theta_2 \\cos(\\theta_1-\\theta_2)\n",
    "  &+ \\dot\\theta_2^2 \\sin(\\theta_1-\\theta_2) + 2{g\\over\\ell} \\sin\\theta_1 = 0,\n",
    "  \\\\\n",
    "\\ddot\\theta_2 + \\ddot\\theta_1 \\cos(\\theta_1-\\theta_2)\n",
    "  &- \\dot\\theta_1^2 \\sin(\\theta_1-\\theta_2) + {g\\over\\ell} \\sin\\theta_2 = 0,\n",
    "\\end{align*}\n",
    "\n",
    "donde la masa $ m $ se ha cancelado.\n",
    "\n",
    "Estas son ecuaciones de segundo orden, pero podemos convertirlas en las de primer orden por el método habitual, definiendo dos nuevas variables, $ \\ omega_1 $ y $ \\ omega_2 $, por lo tanto:\n",
    "\n",
    "\\begin{equation}\n",
    "\\dot\\theta_1 = \\omega_1,\\qquad \\dot\\theta_2 = \\omega_2.\n",
    "\\end{equation}\n",
    "\n",
    "En términos de estas variables, nuestras ecuaciones de movimiento se convierten\n",
    "\n",
    "\\begin{align*}\n",
    "2\\dot\\omega_1 + \\dot\\omega_2 \\cos(\\theta_1-\\theta_2)\n",
    "  &+ \\omega_2^2 \\sin(\\theta_1-\\theta_2) + 2{g\\over\\ell} \\sin\\theta_1 = 0,\n",
    "  \\\\\n",
    "\\dot\\omega_2 + \\dot\\omega_1 \\cos(\\theta_1-\\theta_2)\n",
    "  &- \\omega_1^2 \\sin(\\theta_1-\\theta_2) + {g\\over\\ell} \\sin\\theta_2 = 0.\n",
    "\\end{align*}\n",
    "\n",
    "Finalmente, tenemos que reorganizarlos en la forma estándar de la ecuación (8.29) con una sola derivada en el lado izquierdo de cada uno, lo que da\n",
    "\n",
    "\\begin{align*}\n",
    "\\dot\\omega_1 &= - {\\omega_1^2\\sin(2\\theta_1-2\\theta_2)\n",
    "                + 2\\omega_2^2\\sin(\\theta_1-\\theta_2)\n",
    "                + (g/\\ell) \\bigl[ \\sin(\\theta_1-2\\theta_2)\n",
    "                                  + 3 \\sin\\theta_1 \\bigr]\\over\n",
    "                 3 - \\cos(2\\theta_1-2\\theta_2)}, \\\\\n",
    "\\dot\\omega_2 &= {4\\omega_1^2\\sin(\\theta_1-\\theta_2)\n",
    "                + \\omega_2^2\\sin(2\\theta_1-2\\theta_2)\n",
    "                + 2(g/\\ell) \\bigl[ \\sin(2\\theta_1-\\theta_2)\n",
    "                                   - \\sin\\theta_2 \\bigr]\\over\n",
    "                3 - \\cos(2\\theta_1-2\\theta_2)}.\n",
    "\\end{align*}\n",
    "\n",
    "(Este último paso es bastante complicado e involucra algunas identidades trigonométricas. Si no está seguro de cómo va el cálculo, puede resultarle útil realizar la derivación por sí mismo).\n",
    "\n",
    "Estas dos ecuaciones, junto con las ecuaciones $ \\dot \\theta_1 = \\omega_1 $ y $ \\dot \\theta_2 = \\omega_2 $, nos dan cuatro ecuaciones de primer orden que entre ellas definen el movimiento del doble péndulo.\n",
    "\n",
    "\n",
    "**a)** Derive una expresión para la energía total $ E = T + V $ del sistema en términos de las variables $ \\theta_1 $, $ \\theta_2 $, $ \\omega_1 $ y  $ \\omega_2 $, más las constantes $ g $ , $ \\ell $ y  $ m $.\n",
    "  \n",
    "**b)** Escriba un programa utilizando el método Runge - Kutta de cuarto orden para resolver las ecuaciones de movimiento para el caso donde $ \\ell = 40 \\, $ cm, con las condiciones iniciales $ \\theta_1 = \\theta_2 = 90 ^ \\circ $ y $ \\omega_1 = \\omega_2 = 0 $. Use su programa para calcular la energía total del sistema suponiendo que la masa de las bobinas es $ 1 \\, $ kg cada una, y tome un gráfico de energía en función del tiempo de $ t = 0 $ a $ t = 100 $ segundos.\n",
    "\n",
    "Debido a la conservación de energía, la energía total debe ser constante a lo largo del tiempo (en realidad debería ser cero para este conjunto particular de condiciones iniciales), pero encontrará que no es perfectamente constante debido a la naturaleza aproximada de la solución de la ecuación diferencial . Elija un valor adecuado del tamaño del paso  $ h $ para asegurarse de que la variación de energía sea inferior a  $ 10 ^ {- 5} $  Julios en el transcurso del cálculo.\n",
    "\n",
    "**c)** Haga una copia de su programa y modifique la copia para crear un segundo programa que no produzca un gráfico, sino que haga una anotación del movimiento del péndulo doble con el tiempo. Como mínimo, la animación debe mostrar los dos brazos y las dos oscilaciones. "
   ]
  },
  {
   "cell_type": "markdown",
   "metadata": {},
   "source": [
    "## Solución a) \n",
    "\n",
    "La Energia total del sistema viene definida por el expresión\n",
    "\n",
    "\\begin{equation}\n",
    "\\mathcal{E} = T + V\n",
    "  = m\\ell^2 \\bigl[ \\dot\\theta_1^2 + \\frac{1}{2} \\dot\\theta_2^2\n",
    "  + \\dot\\theta_1\\dot\\theta_2 \\cos(\\theta_1-\\theta_2) \\bigr]\n",
    "  - mg\\ell(2\\cos\\theta_1 + \\cos\\theta_2).\n",
    "\\end{equation}"
   ]
  },
  {
   "cell_type": "code",
   "execution_count": 1,
   "metadata": {},
   "outputs": [
    {
     "data": {
      "text/html": [
       "<div id=\"glowscript\" class=\"glowscript\"></div>"
      ],
      "text/plain": [
       "<IPython.core.display.HTML object>"
      ]
     },
     "metadata": {},
     "output_type": "display_data"
    },
    {
     "data": {
      "application/javascript": [
       "if (typeof Jupyter !== \"undefined\") { window.__context = { glowscript_container: $(\"#glowscript\").removeAttr(\"id\")};}else{ element.textContent = ' ';}"
      ],
      "text/plain": [
       "<IPython.core.display.Javascript object>"
      ]
     },
     "metadata": {},
     "output_type": "display_data"
    }
   ],
   "source": [
    "from numpy import array, linspace\n",
    "from math import sin, cos, pi\n",
    "from pylab import plot, xlabel, ylabel, show\n",
    "from scipy.integrate import odeint\n",
    "\n",
    "from vpython import sphere, scene,cylinder, vector, color, arrow, text, sleep,box\n"
   ]
  },
  {
   "cell_type": "markdown",
   "metadata": {},
   "source": [
    "## solución c)"
   ]
  },
  {
   "cell_type": "code",
   "execution_count": 2,
   "metadata": {},
   "outputs": [],
   "source": [
    "#constantes\n",
    "R = 0.02 #Radio de la esfera\n",
    "g=9.8 #gravedad\n",
    "l=0.15 #longitud de la cuerda\n",
    "n=1000 # numero de pasos\n",
    "phi1=45*pi/180.\n",
    "a=0.\n",
    "phi2=90*pi/180.\n",
    "b=0.\n",
    "da=0.\n",
    "db=0.\n",
    "t_start = 0.   #Tiempo inicial\n",
    "t_final = 7.  #Tiempo final\n",
    "t_delta = (t_final - t_start) / n #Diferencial de tiempo (Paso temporal)\n",
    "t = linspace(t_start, t_final,n) #Arreglo de diferencial de tiempo\n",
    "scene.range = 0.4 #Tamaño de la ventana de fondo"
   ]
  },
  {
   "cell_type": "code",
   "execution_count": 3,
   "metadata": {},
   "outputs": [],
   "source": [
    " #Función que devuelve valores de theta y omega(arreglo)\n",
    "def func (cond, t, g, l):\n",
    "    dda=cond[4]\n",
    "    ddb=cond[5]\n",
    "    dphi1=cond[1]\n",
    "    dphi2=cond[3]\n",
    "  \n",
    "    da=(1/2)*(-(cond[5])*cos(cond[0]-cond[2])-((cond[2])**2)*sin(cond[0]-cond[2]))-(g/l)*sin(cond[0])\n",
    "    db=-(cond[4])*cos(cond[0]-cond[2])+((cond[1])**2)*sin(cond[0]-cond[2])-(g/l)*sin(cond[2])\n",
    "    \n",
    "      #ddphi1=-((cond[1]**2)*sin(2*cond[0]-2*cond[2])+2*(cond[3]**2)*sin(cond[0]-cond[2])+(g/l)*\\\n",
    "            # (sin(cond[0]-2*cond[2]+3*sin(cond[0])))/(3-cos(2*cond[0]-2*cond[2]))\n",
    "             \n",
    "    #ddphi2= ((4*(cond[1]**2)*sin(cond[0]-cond[2]))+((cond[3])**2)*sin(2*cond[0]-2*cond[2])+2*(g/l)*\\\n",
    "            #(sin(2*cond[0]-cond[2])-sin(cond[2])))/(3-cos(2*cond[0]-2*cond[2]))\n",
    "             \n",
    "    return array([dphi1,da,dphi2,db,dda,ddb], float)"
   ]
  },
  {
   "cell_type": "code",
   "execution_count": 4,
   "metadata": {},
   "outputs": [],
   "source": [
    "#solucion de la ecuacion utilizando odeint\n",
    "initcond = array([phi1,a,phi2,b,da,db])\n",
    "solu, outodeint = odeint( func, initcond, t, args = (g, l), full_output=True)  #Solución de la ecuación diferencial\n",
    "phi_1,aa,phi_2,bb,aaa,bbb = solu.T #Devuelve la matriz transpuesta\n",
    "xp = l*sin(phi1) #Pasa de coordenadas polares a cartesianas\n",
    "yp = -l*cos(phi1)\n",
    "zp = 0.\n",
    "\n",
    "xs=l*(sin(phi1)+sin(phi2))\n",
    "ys=-l*(cos(phi1)+cos(phi2))\n",
    "zs=0.\n"
   ]
  },
  {
   "cell_type": "code",
   "execution_count": 5,
   "metadata": {},
   "outputs": [
    {
     "data": {
      "application/javascript": [
       "if (typeof Jupyter !== \"undefined\") {require.undef(\"nbextensions/vpython_libraries/glow.min\");}else{element.textContent = ' ';}"
      ],
      "text/plain": [
       "<IPython.core.display.Javascript object>"
      ]
     },
     "metadata": {},
     "output_type": "display_data"
    },
    {
     "data": {
      "application/javascript": [
       "if (typeof Jupyter !== \"undefined\") {require.undef(\"nbextensions/vpython_libraries/glowcomm\");}else{element.textContent = ' ';}"
      ],
      "text/plain": [
       "<IPython.core.display.Javascript object>"
      ]
     },
     "metadata": {},
     "output_type": "display_data"
    },
    {
     "data": {
      "application/javascript": [
       "if (typeof Jupyter !== \"undefined\") {require.undef(\"nbextensions/vpython_libraries/jquery-ui.custom.min\");}else{element.textContent = ' ';}"
      ],
      "text/plain": [
       "<IPython.core.display.Javascript object>"
      ]
     },
     "metadata": {},
     "output_type": "display_data"
    },
    {
     "data": {
      "application/javascript": [
       "if (typeof Jupyter !== \"undefined\") {require([\"nbextensions/vpython_libraries/glow.min\"], function(){console.log(\"GLOW LOADED\");});}else{element.textContent = ' ';}"
      ],
      "text/plain": [
       "<IPython.core.display.Javascript object>"
      ]
     },
     "metadata": {},
     "output_type": "display_data"
    },
    {
     "data": {
      "application/javascript": [
       "if (typeof Jupyter !== \"undefined\") {require([\"nbextensions/vpython_libraries/glowcomm\"], function(){console.log(\"GLOWCOMM LOADED\");});}else{element.textContent = ' ';}"
      ],
      "text/plain": [
       "<IPython.core.display.Javascript object>"
      ]
     },
     "metadata": {},
     "output_type": "display_data"
    },
    {
     "data": {
      "application/javascript": [
       "if (typeof Jupyter !== \"undefined\") {require([\"nbextensions/vpython_libraries/jquery-ui.custom.min\"], function(){console.log(\"JQUERY LOADED\");});}else{element.textContent = ' ';}"
      ],
      "text/plain": [
       "<IPython.core.display.Javascript object>"
      ]
     },
     "metadata": {},
     "output_type": "display_data"
    },
    {
     "ename": "IndexError",
     "evalue": "index 1000 is out of bounds for axis 0 with size 1000",
     "output_type": "error",
     "traceback": [
      "\u001b[1;31m---------------------------------------------------------------------------\u001b[0m",
      "\u001b[1;31mIndexError\u001b[0m                                Traceback (most recent call last)",
      "\u001b[1;32m<ipython-input-5-8fe3faf414aa>\u001b[0m in \u001b[0;36m<module>\u001b[1;34m\u001b[0m\n\u001b[0;32m     10\u001b[0m \u001b[0msleeptime\u001b[0m \u001b[1;33m=\u001b[0m \u001b[1;36m0.0001\u001b[0m \u001b[1;31m#Tiempo con que se actualiza la posición de la partícula\u001b[0m\u001b[1;33m\u001b[0m\u001b[1;33m\u001b[0m\u001b[0m\n\u001b[0;32m     11\u001b[0m \u001b[1;32mwhile\u001b[0m \u001b[0mt_run\u001b[0m \u001b[1;33m<\u001b[0m \u001b[0mt_final\u001b[0m\u001b[1;33m:\u001b[0m \u001b[1;31m#ANIMACIÓN\u001b[0m\u001b[1;33m\u001b[0m\u001b[1;33m\u001b[0m\u001b[0m\n\u001b[1;32m---> 12\u001b[1;33m     \u001b[0mparticula1\u001b[0m\u001b[1;33m.\u001b[0m\u001b[0mpos\u001b[0m \u001b[1;33m=\u001b[0m \u001b[0mvector\u001b[0m\u001b[1;33m(\u001b[0m \u001b[0ml\u001b[0m\u001b[1;33m*\u001b[0m\u001b[0msin\u001b[0m\u001b[1;33m(\u001b[0m\u001b[0mphi_1\u001b[0m\u001b[1;33m[\u001b[0m\u001b[0mtime_i\u001b[0m\u001b[1;33m]\u001b[0m\u001b[1;33m)\u001b[0m\u001b[1;33m,\u001b[0m \u001b[1;33m-\u001b[0m\u001b[0ml\u001b[0m\u001b[1;33m*\u001b[0m\u001b[0mcos\u001b[0m\u001b[1;33m(\u001b[0m\u001b[0mphi_1\u001b[0m\u001b[1;33m[\u001b[0m\u001b[0mtime_i\u001b[0m\u001b[1;33m]\u001b[0m\u001b[1;33m)\u001b[0m\u001b[1;33m,\u001b[0m \u001b[0mzp\u001b[0m \u001b[1;33m)\u001b[0m\u001b[1;33m\u001b[0m\u001b[1;33m\u001b[0m\u001b[0m\n\u001b[0m\u001b[0;32m     13\u001b[0m     \u001b[0mparticula2\u001b[0m\u001b[1;33m.\u001b[0m\u001b[0mpos\u001b[0m\u001b[1;33m=\u001b[0m \u001b[0mvector\u001b[0m\u001b[1;33m(\u001b[0m \u001b[0ml\u001b[0m\u001b[1;33m*\u001b[0m\u001b[1;33m(\u001b[0m\u001b[0msin\u001b[0m\u001b[1;33m(\u001b[0m\u001b[0mphi_1\u001b[0m\u001b[1;33m[\u001b[0m\u001b[0mtime_i\u001b[0m\u001b[1;33m]\u001b[0m\u001b[1;33m)\u001b[0m\u001b[1;33m+\u001b[0m\u001b[0msin\u001b[0m\u001b[1;33m(\u001b[0m\u001b[0mphi_2\u001b[0m\u001b[1;33m[\u001b[0m\u001b[0mtime_i\u001b[0m\u001b[1;33m]\u001b[0m\u001b[1;33m)\u001b[0m\u001b[1;33m)\u001b[0m\u001b[1;33m,\u001b[0m \u001b[1;33m-\u001b[0m\u001b[0ml\u001b[0m\u001b[1;33m*\u001b[0m\u001b[1;33m(\u001b[0m\u001b[0mcos\u001b[0m\u001b[1;33m(\u001b[0m\u001b[0mphi_1\u001b[0m\u001b[1;33m[\u001b[0m\u001b[0mtime_i\u001b[0m\u001b[1;33m]\u001b[0m\u001b[1;33m)\u001b[0m\u001b[1;33m+\u001b[0m\u001b[0mcos\u001b[0m\u001b[1;33m(\u001b[0m\u001b[0mphi_2\u001b[0m\u001b[1;33m[\u001b[0m\u001b[0mtime_i\u001b[0m\u001b[1;33m]\u001b[0m\u001b[1;33m)\u001b[0m\u001b[1;33m)\u001b[0m\u001b[1;33m,\u001b[0m \u001b[0mzs\u001b[0m \u001b[1;33m)\u001b[0m\u001b[1;33m\u001b[0m\u001b[1;33m\u001b[0m\u001b[0m\n\u001b[0;32m     14\u001b[0m     \u001b[0mcuerda1\u001b[0m\u001b[1;33m.\u001b[0m\u001b[0mpos\u001b[0m\u001b[1;33m=\u001b[0m\u001b[0mvector\u001b[0m\u001b[1;33m(\u001b[0m\u001b[1;36m0\u001b[0m\u001b[1;33m,\u001b[0m\u001b[1;36m0\u001b[0m\u001b[1;33m,\u001b[0m\u001b[1;36m0\u001b[0m\u001b[1;33m)\u001b[0m\u001b[1;33m\u001b[0m\u001b[1;33m\u001b[0m\u001b[0m\n",
      "\u001b[1;31mIndexError\u001b[0m: index 1000 is out of bounds for axis 0 with size 1000"
     ]
    }
   ],
   "source": [
    "#simulacion del movimiento\n",
    "\n",
    "particula1 = sphere(pos=vector(xp,yp,zp), radius=R, color=color.green) \n",
    "particula2= sphere(pos=vector(xs,ys,zs), radius=R, color=color.green)\n",
    "cuerda1=cylinder(pos=vector(0,0,0),axis=vector(xp,yp,zp),radius=0.002,color=color.white)\n",
    "cuerda2=cylinder(pos=particula1.pos,axis=particula1.pos,radius=0.002,color=color.white)\n",
    "base=box(pos=vector(0,0,0),size=vector(0.1,0.005,0.002),color=color.orange)\n",
    "time_i = 0 #Contador que se mueve en el espacio temporal en el que se resolvió la ecuación diferencial\n",
    "t_run = 0  #Tiempo en el que se ejecuta la animación\n",
    "sleeptime = 0.0001 #Tiempo con que se actualiza la posición de la partícula\n",
    "while t_run < t_final: #ANIMACIÓN\n",
    "    particula1.pos = vector( l*sin(phi_1[time_i]), -l*cos(phi_1[time_i]), zp )\n",
    "    particula2.pos= vector( l*(sin(phi_1[time_i])+sin(phi_2[time_i])), -l*(cos(phi_1[time_i])+cos(phi_2[time_i])), zs )\n",
    "    cuerda1.pos=vector(0,0,0)\n",
    "    cuerda1.axis=particula1.pos\n",
    "    cuerda2.pos=particula2.pos\n",
    "    cuerda2.axis=particula1.pos-particula2.pos\n",
    "    t_run += t_delta\n",
    "    sleep(sleeptime)\n",
    "    time_i += 1"
   ]
  },
  {
   "cell_type": "code",
   "execution_count": null,
   "metadata": {},
   "outputs": [],
   "source": []
  },
  {
   "cell_type": "code",
   "execution_count": null,
   "metadata": {},
   "outputs": [],
   "source": []
  }
 ],
 "metadata": {
  "kernelspec": {
   "display_name": "Python 3",
   "language": "python",
   "name": "python3"
  },
  "language_info": {
   "codemirror_mode": {
    "name": "ipython",
    "version": 3
   },
   "file_extension": ".py",
   "mimetype": "text/x-python",
   "name": "python",
   "nbconvert_exporter": "python",
   "pygments_lexer": "ipython3",
   "version": "3.7.3"
  }
 },
 "nbformat": 4,
 "nbformat_minor": 2
}
